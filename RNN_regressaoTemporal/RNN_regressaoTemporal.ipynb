{
 "cells": [
  {
   "cell_type": "markdown",
   "metadata": {},
   "source": [
    "# Módulos"
   ]
  },
  {
   "cell_type": "code",
   "execution_count": 40,
   "metadata": {},
   "outputs": [],
   "source": [
    "# Biblioteca básica do python\n",
    "import numpy as np\n",
    "import pandas as pd\n",
    "# Para etapa de pré-processamento\n",
    "from sklearn.preprocessing import StandardScaler\n",
    "# Para o desenvolvimento dos modelos de Deep Learning\n",
    "import tensorflow as tf\n",
    "from tensorflow.keras.callbacks import TensorBoard\n",
    "from tensorflow.keras.layers import LSTM, GRU, Dropout, BatchNormalization\n",
    "# Para fazer alguns gráficos caso necessário\n",
    "import matplotlib.pyplot as plt\n",
    "import seaborn as sns\n",
    "%matplotlib inline\n",
    "# Para aplicar a otimização de parametros da rede\n",
    "import talos"
   ]
  },
  {
   "cell_type": "markdown",
   "metadata": {},
   "source": [
    "# Parte 1: Pré-processamento dos dados"
   ]
  },
  {
   "cell_type": "code",
   "execution_count": 52,
   "metadata": {},
   "outputs": [],
   "source": [
    "# Importando banco de dados\n",
    "data_apple = pd.read_csv('./dados/apple_prices.csv', names=['price'], header=None)\n",
    "data_leite = pd.read_csv('./dados/monthly-milk-production-pounds.csv')\n",
    "# Corrigindo alguns detalhes dos bancos de dados\n",
    "data_leite = df_leite[0:168]\n",
    "data_leite.columns = ['mes', 'producao']"
   ]
  },
  {
   "cell_type": "markdown",
   "metadata": {},
   "source": [
    "Explicar objetivo de ambas as predições, prever os 12 ultimos valores"
   ]
  },
  {
   "cell_type": "code",
   "execution_count": 49,
   "metadata": {},
   "outputs": [],
   "source": [
    "# Divisão para produção de leite\n",
    "train_leite = data_leite[0:len(data_leite)-12]\n",
    "test_leite = data_leite.tail(12)\n",
    "# Divisão para preços da Apple\n",
    "train_apple = data_apple[0:len(data_apple)-12]\n",
    "test_apple = data_apple.tail(12)"
   ]
  },
  {
   "cell_type": "markdown",
   "metadata": {},
   "source": [
    "Normalizacao explicada aqui"
   ]
  },
  {
   "cell_type": "code",
   "execution_count": 38,
   "metadata": {},
   "outputs": [],
   "source": [
    "# Declare o objeto para normalizacao\n",
    "ss = StandardScaler()\n",
    "ssData = ss.fit_transform(train_leite['producao']) # Fit and Transform\n",
    "train_leite['producao'] = pd.DataFrame(ssData, index=train[abiotics].index, columns=train[abiotics].columns)\n",
    "train[abiotics] = abiotic_train\n"
   ]
  },
  {
   "cell_type": "markdown",
   "metadata": {},
   "source": [
    "# Parte 2: Criação do conjunto de treino e teste"
   ]
  },
  {
   "cell_type": "markdown",
   "metadata": {},
   "source": [
    "# Parte 3: Criando a Rede Recorrente LSTM"
   ]
  },
  {
   "cell_type": "markdown",
   "metadata": {},
   "source": [
    "# Parte 4: Criando a Rede Recorrente GRU"
   ]
  },
  {
   "cell_type": "markdown",
   "metadata": {},
   "source": [
    "# Parte 5: Comparando os resultados"
   ]
  },
  {
   "cell_type": "markdown",
   "metadata": {},
   "source": [
    "# Parte 6: Leite"
   ]
  },
  {
   "cell_type": "code",
   "execution_count": null,
   "metadata": {},
   "outputs": [],
   "source": []
  }
 ],
 "metadata": {
  "kernelspec": {
   "display_name": "Python 3",
   "language": "python",
   "name": "python3"
  },
  "language_info": {
   "codemirror_mode": {
    "name": "ipython",
    "version": 3
   },
   "file_extension": ".py",
   "mimetype": "text/x-python",
   "name": "python",
   "nbconvert_exporter": "python",
   "pygments_lexer": "ipython3",
   "version": "3.6.9"
  }
 },
 "nbformat": 4,
 "nbformat_minor": 2
}
